{
  "nbformat": 4,
  "nbformat_minor": 0,
  "metadata": {
    "colab": {
      "name": "Gradient Descent Fromm Scratch.ipynb",
      "version": "0.3.2",
      "provenance": [],
      "include_colab_link": true
    },
    "kernelspec": {
      "name": "python3",
      "display_name": "Python 3"
    }
  },
  "cells": [
    {
      "cell_type": "markdown",
      "metadata": {
        "id": "view-in-github",
        "colab_type": "text"
      },
      "source": [
        "[View in Colaboratory](https://colab.research.google.com/github/adityasingh1993/100DayMLChallenge/blob/master/Gradient_Descent_Fromm_Scratch.ipynb)"
      ]
    },
    {
      "metadata": {
        "id": "EjWO_iSmzBuS",
        "colab_type": "text"
      },
      "cell_type": "markdown",
      "source": [
        "## Gradient Desecent"
      ]
    },
    {
      "metadata": {
        "id": "pbKTkyvYzGZ8",
        "colab_type": "text"
      },
      "cell_type": "markdown",
      "source": [
        "*Pseudo Code Of Gradient Descent*:\n",
        "                \n",
        "\n",
        "---\n",
        "\n",
        "while True:\n",
        "\n",
        "> Wgradient=evaluate_gradient(data,loss,W)\n",
        "\n",
        "\n",
        "  \n",
        "  \n",
        "\n",
        ">W+=-alpha*Wgradient\n",
        "\n",
        "\n",
        "\n",
        "\n",
        "\n",
        "\n",
        "  \n",
        "  \n",
        "\n"
      ]
    },
    {
      "metadata": {
        "id": "HUs7O0zwz6B5",
        "colab_type": "code",
        "colab": {}
      },
      "cell_type": "code",
      "source": [
        "import numpy as np\n",
        "import matplotlib.pyplot as plt\n",
        "from sklearn.datasets import make_blobs"
      ],
      "execution_count": 0,
      "outputs": []
    },
    {
      "metadata": {
        "id": "lTgO6vFv0SZT",
        "colab_type": "code",
        "colab": {}
      },
      "cell_type": "code",
      "source": [
        "def Sigmoid(X):\n",
        "  return 1.0/(1.0+np.exp(-X))"
      ],
      "execution_count": 0,
      "outputs": []
    },
    {
      "metadata": {
        "id": "3p1zPPog0e9G",
        "colab_type": "code",
        "colab": {
          "base_uri": "https://localhost:8080/",
          "height": 34
        },
        "outputId": "631a619a-94af-4161-c20e-536d023e00f1"
      },
      "cell_type": "code",
      "source": [
        "Sigmoid(10)"
      ],
      "execution_count": 4,
      "outputs": [
        {
          "output_type": "execute_result",
          "data": {
            "text/plain": [
              "0.9999546021312976"
            ]
          },
          "metadata": {
            "tags": []
          },
          "execution_count": 4
        }
      ]
    },
    {
      "metadata": {
        "id": "Zw_oriPG0hEb",
        "colab_type": "code",
        "colab": {}
      },
      "cell_type": "code",
      "source": [
        "def sigmoid_test():\n",
        "  list2=[]\n",
        "  list1=np.arange(-10,10,0.2)\n",
        "  for i in range(0,len(list1)):\n",
        "    list2.append(Sigmoid(list1[i]))\n",
        "  plt.plot(list1,list2)\n",
        "  "
      ],
      "execution_count": 0,
      "outputs": []
    },
    {
      "metadata": {
        "id": "2h-n2xsf2UnL",
        "colab_type": "code",
        "colab": {
          "base_uri": "https://localhost:8080/",
          "height": 347
        },
        "outputId": "9f4a2b99-9a6b-4ef4-96c1-120c037c64f5"
      },
      "cell_type": "code",
      "source": [
        "sigmoid_test()"
      ],
      "execution_count": 9,
      "outputs": [
        {
          "output_type": "display_data",
          "data": {
            "image/png": "[encoded data removed]",
            "text/plain": [
              "<matplotlib.figure.Figure at 0x7ff862747358>"
            ]
          },
          "metadata": {
            "tags": []
          }
        }
      ]
    },
    {
      "metadata": {
        "id": "V9ir7KdZ1Kt2",
        "colab_type": "code",
        "colab": {}
      },
      "cell_type": "code",
      "source": [
        "def generate_Data():\n",
        "  \n",
        "  X,Y=make_blobs(n_samples=300,n_features=2,centers=2,cluster_std=1.5,random_state=20)\n",
        "  return X,Y"
      ],
      "execution_count": 0,
      "outputs": []
    },
    {
      "metadata": {
        "id": "dCKztOnD1kXI",
        "colab_type": "code",
        "colab": {}
      },
      "cell_type": "code",
      "source": [
        "X,Y=generate_Data()"
      ],
      "execution_count": 0,
      "outputs": []
    },
    {
      "metadata": {
        "id": "qmn3rsRt30tH",
        "colab_type": "code",
        "colab": {
          "base_uri": "https://localhost:8080/",
          "height": 68
        },
        "outputId": "b62dec28-bdd4-49fb-b086-a379595a38a4"
      },
      "cell_type": "code",
      "source": [
        "print(X.shape)\n",
        "print(X.shape[0])\n",
        "print(X.shape[1])"
      ],
      "execution_count": 17,
      "outputs": [
        {
          "output_type": "stream",
          "text": [
            "(300, 2)\n",
            "300\n",
            "2\n"
          ],
          "name": "stdout"
        }
      ]
    },
    {
      "metadata": {
        "id": "AbrXuoQP24Hc",
        "colab_type": "code",
        "colab": {}
      },
      "cell_type": "code",
      "source": [
        "def AddBiasToData(X):\n",
        "  return np.c_[np.ones((X.shape[0])),X]"
      ],
      "execution_count": 0,
      "outputs": []
    },
    {
      "metadata": {
        "id": "GCuLBtas29Sa",
        "colab_type": "code",
        "colab": {}
      },
      "cell_type": "code",
      "source": [
        "def initalize_Weight(x_shape):\n",
        "  return np.random.uniform(size=(x_shape,))\n",
        "  \n",
        "  "
      ],
      "execution_count": 0,
      "outputs": []
    },
    {
      "metadata": {
        "id": "F_IOzk8K4TL8",
        "colab_type": "code",
        "colab": {}
      },
      "cell_type": "code",
      "source": [
        "def Training(X,W,Y,epoch,alpha):\n",
        "  lossHistory=[]\n",
        "  for i in range(0,epoch):\n",
        "    \n",
        "    y=np.dot(X,W)\n",
        "    preds=Sigmoid(y)\n",
        "    error=preds-Y\n",
        "    loss=np.sum(error**2)\n",
        "    lossHistory.append(loss)\n",
        "    print(\"loss is {} in Epoch #{}\".format(loss,i))\n",
        "    gradient=np.dot(X.T,error)\n",
        "    W+=-alpha*gradient\n",
        "  return lossHistory"
      ],
      "execution_count": 0,
      "outputs": []
    },
    {
      "metadata": {
        "id": "hCudZ1BW6Bs_",
        "colab_type": "code",
        "colab": {
          "base_uri": "https://localhost:8080/",
          "height": 1751
        },
        "outputId": "e17670fc-37a0-4bcb-bcf3-2c098566bdf5"
      },
      "cell_type": "code",
      "source": [
        "X_bias=AddBiasToData(X)\n",
        "W=initalize_Weight(X_bias.shape[1])\n",
        "lossHistory=Training(X_bias,W,Y,100,0.1)\n"
      ],
      "execution_count": 29,
      "outputs": [
        {
          "output_type": "stream",
          "text": [
            "loss is 147.9182239758877 in Epoch #0\n",
            "loss is 150.0 in Epoch #1\n",
            "loss is 69.44581888957396 in Epoch #2\n",
            "loss is 49.46878620021979 in Epoch #3\n",
            "loss is 41.87852784232338 in Epoch #4\n",
            "loss is 6.002772032396489 in Epoch #5\n",
            "loss is 2.8370116060317905 in Epoch #6\n",
            "loss is 3.3006454946091477 in Epoch #7\n",
            "loss is 2.9767871236991406 in Epoch #8\n",
            "loss is 2.884584013079393 in Epoch #9\n",
            "loss is 2.774827512348407 in Epoch #10\n",
            "loss is 3.3169135432631682 in Epoch #11\n",
            "loss is 2.97893198139681 in Epoch #12\n",
            "loss is 2.8580348129923823 in Epoch #13\n",
            "loss is 2.747742974662729 in Epoch #14\n",
            "loss is 3.3114282892958915 in Epoch #15\n",
            "loss is 2.97850316873353 in Epoch #16\n",
            "loss is 2.8566422408313312 in Epoch #17\n",
            "loss is 2.7479856293569984 in Epoch #18\n",
            "loss is 3.3105612544731216 in Epoch #19\n",
            "loss is 2.978554798476801 in Epoch #20\n",
            "loss is 2.850722332458984 in Epoch #21\n",
            "loss is 2.7431513524870157 in Epoch #22\n",
            "loss is 3.308930708755309 in Epoch #23\n",
            "loss is 2.978485121799644 in Epoch #24\n",
            "loss is 2.846288280375229 in Epoch #25\n",
            "loss is 2.7400346327146052 in Epoch #26\n",
            "loss is 3.308155006355924 in Epoch #27\n",
            "loss is 2.9784798749250325 in Epoch #28\n",
            "loss is 2.841444985208761 in Epoch #29\n",
            "loss is 2.7364842457922576 in Epoch #30\n",
            "loss is 3.3076709427679836 in Epoch #31\n",
            "loss is 2.9784785665012308 in Epoch #32\n",
            "loss is 2.836782555046197 in Epoch #33\n",
            "loss is 2.7331956022555977 in Epoch #34\n",
            "loss is 3.307644407706131 in Epoch #35\n",
            "loss is 2.9785026804317156 in Epoch #36\n",
            "loss is 2.832056113298707 in Epoch #37\n",
            "loss is 2.729892828343673 in Epoch #38\n",
            "loss is 3.3079747009369678 in Epoch #39\n",
            "loss is 2.978543593764227 in Epoch #40\n",
            "loss is 2.8273309527066512 in Epoch #41\n",
            "loss is 2.726662712679302 in Epoch #42\n",
            "loss is 3.3086647735768295 in Epoch #43\n",
            "loss is 2.9786041213129146 in Epoch #44\n",
            "loss is 2.8225535957234484 in Epoch #45\n",
            "loss is 2.7234497485158773 in Epoch #46\n",
            "loss is 3.3096742429527417 in Epoch #47\n",
            "loss is 2.9786820940869436 in Epoch #48\n",
            "loss is 2.8177237483159012 in Epoch #49\n",
            "loss is 2.7202607021918643 in Epoch #50\n",
            "loss is 3.310982194701487 in Epoch #51\n",
            "loss is 2.9787773345319493 in Epoch #52\n",
            "loss is 2.8128204575643325 in Epoch #53\n",
            "loss is 2.717076137231892 in Epoch #54\n",
            "loss is 3.3125591712867593 in Epoch #55\n",
            "loss is 2.978888574457521 in Epoch #56\n",
            "loss is 2.807835494572452 in Epoch #57\n",
            "loss is 2.71389083201208 in Epoch #58\n",
            "loss is 3.3143807706415807 in Epoch #59\n",
            "loss is 2.9790149473631935 in Epoch #60\n",
            "loss is 2.8027571519989802 in Epoch #61\n",
            "loss is 2.7106941278232526 in Epoch #62\n",
            "loss is 3.3164210151407287 in Epoch #63\n",
            "loss is 2.979155280008267 in Epoch #64\n",
            "loss is 2.7975782957128823 in Epoch #65\n",
            "loss is 2.707479850146899 in Epoch #66\n",
            "loss is 3.31865601489456 in Epoch #67\n",
            "loss is 2.9793084933432348 in Epoch #68\n",
            "loss is 2.792291931311833 in Epoch #69\n",
            "loss is 2.7042409101542733 in Epoch #70\n",
            "loss is 3.321062066251994 in Epoch #71\n",
            "loss is 2.9794734116546415 in Epoch #72\n",
            "loss is 2.786893532014979 in Epoch #73\n",
            "loss is 2.700972249940877 in Epoch #74\n",
            "loss is 3.323616855264744 in Epoch #75\n",
            "loss is 2.979648897710458 in Epoch #76\n",
            "loss is 2.7813795291527974 in Epoch #77\n",
            "loss is 2.6976690300580946 in Epoch #78\n",
            "loss is 3.3262988038688945 in Epoch #79\n",
            "loss is 2.9798337952844243 in Epoch #80\n",
            "loss is 2.775748082813738 in Epoch #81\n",
            "loss is 2.694327661965091 in Epoch #82\n",
            "loss is 3.329087540725883 in Epoch #83\n",
            "loss is 2.98002698576963 in Epoch #84\n",
            "loss is 2.769998434022394 in Epoch #85\n",
            "loss is 2.690945066563588 in Epoch #86\n",
            "loss is 3.3319636291891026 in Epoch #87\n",
            "loss is 2.980227369531273 in Epoch #88\n",
            "loss is 2.764131175861554 in Epoch #89\n",
            "loss is 2.687519091382776 in Epoch #90\n",
            "loss is 3.3349087797153056 in Epoch #91\n",
            "loss is 2.9804338941948343 in Epoch #92\n",
            "loss is 2.758147901048786 in Epoch #93\n",
            "loss is 2.6840481413789554 in Epoch #94\n",
            "loss is 3.337905709548003 in Epoch #95\n",
            "loss is 2.9806455478613714 in Epoch #96\n",
            "loss is 2.7520512889677278 in Epoch #97\n",
            "loss is 2.680531368817536 in Epoch #98\n",
            "loss is 3.340938248997023 in Epoch #99\n"
          ],
          "name": "stdout"
        },
        {
          "output_type": "stream",
          "text": [
            "/usr/local/lib/python3.6/dist-packages/ipykernel_launcher.py:2: RuntimeWarning: overflow encountered in exp\n",
            "  \n"
          ],
          "name": "stderr"
        }
      ]
    },
    {
      "metadata": {
        "id": "0LM8pcYV6poY",
        "colab_type": "code",
        "colab": {
          "base_uri": "https://localhost:8080/",
          "height": 364
        },
        "outputId": "8efbd7e2-acbc-4be1-ee3f-8d1570953b53"
      },
      "cell_type": "code",
      "source": [
        "plt.plot(np.arange(0,100),lossHistory)"
      ],
      "execution_count": 30,
      "outputs": [
        {
          "output_type": "execute_result",
          "data": {
            "text/plain": [
              "[<matplotlib.lines.Line2D at 0x7ff85ed2ea58>]"
            ]
          },
          "metadata": {
            "tags": []
          },
          "execution_count": 30
        },
        {
          "output_type": "display_data",
          "data": {
            "image/png": "[encoded data removed]",
            "text/plain": [
              "<matplotlib.figure.Figure at 0x7ff85ecea9b0>"
            ]
          },
          "metadata": {
            "tags": []
          }
        }
      ]
    },
    {
      "metadata": {
        "id": "YfH66ldo79ip",
        "colab_type": "code",
        "colab": {}
      },
      "cell_type": "code",
      "source": [
        "def predict(X):\n",
        "  for i in np.random.choice(300,10):\n",
        "    \n",
        "    y=np.dot(X[i],W)\n",
        "    pred=Sigmoid(y)\n",
        "    if pred<0.5:\n",
        "      print(\"label 0\")\n",
        "    else:\n",
        "      print(\"label 1\")\n",
        "      \n",
        "      \n",
        "    \n",
        "  "
      ],
      "execution_count": 0,
      "outputs": []
    },
    {
      "metadata": {
        "id": "Aj7pV9Lq88kA",
        "colab_type": "code",
        "colab": {
          "base_uri": "https://localhost:8080/",
          "height": 187
        },
        "outputId": "7db2e167-e785-45eb-e303-1edcf2ebe33f"
      },
      "cell_type": "code",
      "source": [
        "predict(X_bias)"
      ],
      "execution_count": 36,
      "outputs": [
        {
          "output_type": "stream",
          "text": [
            "label 0\n",
            "label 1\n",
            "label 1\n",
            "label 0\n",
            "label 0\n",
            "label 0\n",
            "label 0\n",
            "label 0\n",
            "label 1\n",
            "label 0\n"
          ],
          "name": "stdout"
        }
      ]
    },
    {
      "metadata": {
        "id": "EaIVffUi8N8a",
        "colab_type": "code",
        "colab": {
          "base_uri": "https://localhost:8080/",
          "height": 34
        },
        "outputId": "11e001b0-ceaf-4ad9-fd42-10ace7f74064"
      },
      "cell_type": "code",
      "source": [
        ""
      ],
      "execution_count": 31,
      "outputs": [
        {
          "output_type": "execute_result",
          "data": {
            "text/plain": [
              "array([1.78609651, 9.31126487])"
            ]
          },
          "metadata": {
            "tags": []
          },
          "execution_count": 31
        }
      ]
    },
    {
      "metadata": {
        "id": "Kp5aSKSZ8PCw",
        "colab_type": "code",
        "colab": {}
      },
      "cell_type": "code",
      "source": [
        ""
      ],
      "execution_count": 0,
      "outputs": []
    }
  ]
}